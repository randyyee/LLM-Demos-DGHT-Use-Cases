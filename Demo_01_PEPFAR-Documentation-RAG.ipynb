{
 "cells": [
  {
   "attachments": {},
   "cell_type": "markdown",
   "metadata": {},
   "source": [
    "## Demo #1 PEPFAR Documentation RAG"
   ]
  },
  {
   "attachments": {},
   "cell_type": "markdown",
   "metadata": {},
   "source": [
    "This demo demonstrates how you can chat with documents using Retrieval Augmented Generation (RAG) https://python.langchain.com/v0.2/docs/tutorials/rag/."
   ]
  },
  {
   "attachments": {},
   "cell_type": "markdown",
   "metadata": {},
   "source": [
    "### Single document chat"
   ]
  },
  {
   "attachments": {},
   "cell_type": "markdown",
   "metadata": {},
   "source": [
    "Import libraries..."
   ]
  },
  {
   "cell_type": "code",
   "execution_count": 33,
   "metadata": {},
   "outputs": [
    {
     "data": {
      "text/plain": [
       "True"
      ]
     },
     "execution_count": 33,
     "metadata": {},
     "output_type": "execute_result"
    }
   ],
   "source": [
    "import os\n",
    "\n",
    "from langchain_openai import AzureChatOpenAI, AzureOpenAIEmbeddings\n",
    "from PyPDF2 import PdfReader\n",
    "from langchain.text_splitter import CharacterTextSplitter \n",
    "from langchain.vectorstores import FAISS\n",
    "from langchain_core.output_parsers import StrOutputParser\n",
    "from langchain_core.prompts import ChatPromptTemplate\n",
    "from langchain_core.runnables import RunnablePassthrough\n",
    "\n",
    "from dotenv import load_dotenv\n",
    "\n",
    "load_dotenv()"
   ]
  },
  {
   "cell_type": "markdown",
   "metadata": {},
   "source": [
    "Get secrets from your .env file..."
   ]
  },
  {
   "cell_type": "code",
   "execution_count": 10,
   "metadata": {},
   "outputs": [],
   "source": [
    "os.environ[\"AZURE_OPENAI_VERSION\"] = os.environ.get(\"AZURE_OPENAI_VERSION\")\n",
    "os.environ[\"AZURE_OPENAI_DEPLOYMENT\"] = os.environ.get(\"AZURE_OPENAI_DEPLOYMENT\")\n",
    "os.environ[\"AZURE_OPENAI_ENDPOINT\"] = os.environ.get(\"AZURE_OPENAI_ENDPOINT\")\n",
    "os.environ[\"AZURE_OPENAI_API_KEY\"] = os.environ.get(\"AZURE_OPENAI_KEY\")"
   ]
  },
  {
   "attachments": {},
   "cell_type": "markdown",
   "metadata": {},
   "source": [
    "Import a pdf document..."
   ]
  },
  {
   "cell_type": "code",
   "execution_count": 20,
   "metadata": {},
   "outputs": [],
   "source": [
    "pdf = open(\"resources/PEPFAR-2023-Country-and-Regional-Operational-Plan.pdf\", 'rb')"
   ]
  },
  {
   "cell_type": "code",
   "execution_count": 22,
   "metadata": {},
   "outputs": [],
   "source": [
    "def get_pdf_text(pdf_docs):\n",
    "    text = \"\"  # variable to store text\n",
    "    pdf_reader = PdfReader(pdf)  # create pdf object\n",
    "    for page in pdf_reader.pages:  # loop through pdfs\n",
    "        text += page.extract_text()  # add text to text\n",
    "    return text\n",
    "\n",
    "raw_text = get_pdf_text(pdf)"
   ]
  },
  {
   "attachments": {},
   "cell_type": "markdown",
   "metadata": {},
   "source": [
    "Chunk your document..."
   ]
  },
  {
   "cell_type": "code",
   "execution_count": 24,
   "metadata": {},
   "outputs": [],
   "source": [
    "    text_splitter = CharacterTextSplitter(\n",
    "        separator=\"\\n\",\n",
    "        chunk_size=1000,  # number of characters\n",
    "        chunk_overlap=200,\n",
    "        length_function=len\n",
    "    )\n",
    "    chunked_text = text_splitter.split_text(raw_text)"
   ]
  },
  {
   "attachments": {},
   "cell_type": "markdown",
   "metadata": {},
   "source": [
    "Create and store embeddings into a vectorstore..."
   ]
  },
  {
   "cell_type": "code",
   "execution_count": 25,
   "metadata": {},
   "outputs": [],
   "source": [
    "    embeddings = AzureOpenAIEmbeddings()\n",
    "    vectorstore = FAISS.from_texts(texts=chunked_text, embedding=embeddings)"
   ]
  },
  {
   "cell_type": "markdown",
   "metadata": {},
   "source": [
    "Set up your LLM..."
   ]
  },
  {
   "cell_type": "code",
   "execution_count": 26,
   "metadata": {},
   "outputs": [],
   "source": [
    "azure_llm = AzureChatOpenAI(\n",
    "    api_version=os.environ[\"AZURE_OPENAI_VERSION\"],\n",
    "    azure_deployment=os.environ[\"AZURE_OPENAI_DEPLOYMENT\"],\n",
    "    api_key=os.environ[\"AZURE_OPENAI_API_KEY\"]\n",
    ")"
   ]
  },
  {
   "attachments": {},
   "cell_type": "markdown",
   "metadata": {},
   "source": [
    "Implement retrieval from vectorstore..."
   ]
  },
  {
   "cell_type": "code",
   "execution_count": 31,
   "metadata": {},
   "outputs": [],
   "source": [
    "retriever = vectorstore.as_retriever()"
   ]
  },
  {
   "cell_type": "code",
   "execution_count": null,
   "metadata": {},
   "outputs": [],
   "source": [
    "# Define template for prompts\n",
    "template = \"\"\"Answer the question based only on the following context:\n",
    "{context}\n",
    "\n",
    "Question: {question}\n",
    "\"\"\""
   ]
  },
  {
   "cell_type": "code",
   "execution_count": null,
   "metadata": {},
   "outputs": [],
   "source": [
    "prompt = ChatPromptTemplate.from_template(template)"
   ]
  },
  {
   "cell_type": "code",
   "execution_count": 35,
   "metadata": {},
   "outputs": [],
   "source": [
    "    chain = (\n",
    "        {\"context\": retriever, \"questions\": RunnablePassthrough()}\n",
    "        | prompt\n",
    "        | azure_llm\n",
    "        | StrOutputParser()\n",
    "    )"
   ]
  },
  {
   "attachments": {},
   "cell_type": "markdown",
   "metadata": {},
   "source": [
    "Ask!"
   ]
  },
  {
   "cell_type": "code",
   "execution_count": 36,
   "metadata": {},
   "outputs": [
    {
     "data": {
      "text/plain": [
       "'This document is about various aspects of public health, specifically focusing on HIV/AIDS treatment and prevention. It discusses person-centered care, antiretroviral therapy, the importance of aligning health plans with national priorities and strategies to end HIV/AIDS as a public health threat by 2030. It also covers the implementation of innovative distribution models to modernize supply chains, optimization of diagnostic networks, and the integration of quality assurance practices into site and program management. The document appears to be a scholarly or professional report with multiple cited sources.'"
      ]
     },
     "execution_count": 36,
     "metadata": {},
     "output_type": "execute_result"
    }
   ],
   "source": [
    "chain.invoke(\"What is this doc about?\")"
   ]
  },
  {
   "cell_type": "code",
   "execution_count": 37,
   "metadata": {},
   "outputs": [
    {
     "data": {
      "text/plain": [
       "'The priorities for 2023, as mentioned in the document, include sustainability and partnerships. PEPFAR will begin to assess and explore opportunities to sustain DREAMS’s aims and interventions for the long term while working closely with local partners in government, civil society, communities, the private sector, and adolescent girls and young women. They also aim to partner with multilateral, foundation, and private sector donors to provide economic and educational opportunities, and incorporate evidence-based interventions into local structures. Moreover, addressing the need for new partnerships, behavioral/social science gaps, and enablers such as data and community engagement is also a priority.'"
      ]
     },
     "execution_count": 37,
     "metadata": {},
     "output_type": "execute_result"
    }
   ],
   "source": [
    "chain.invoke(\"What are the priorities for 2023?\")"
   ]
  },
  {
   "cell_type": "code",
   "execution_count": 38,
   "metadata": {},
   "outputs": [
    {
     "data": {
      "text/plain": [
       "\"PEPFAR-supported countries are asked to develop data governance policies and arrangements for managing and sharing PEPFAR-supported staffing data with governments. They are also encouraged to support regional and national preparedness capacity to rapidly mobilize the frontline health workforce in pandemic responses and to maintain essential services. Additionally, these countries are asked to leverage PEPFAR's workforce during pandemic responses to maintain high-quality essential healthcare services. They should also track and use HRH (Human Resources for Health) data, strengthen their public health institutions, and promote public health security and responsiveness. Furthermore, they need to have robust national surveillance for HIV/AIDS and other public health threats. They are also asked to strengthen their government health workforce investments and improve the alignment of PEPFAR investments with their HRH staffing and other public health system priorities. Lastly, they are asked to modernize and evolve their supply chains towards people-centered, integrated, efficient systems that offer data visibility and accountability for all users and stakeholders.\""
      ]
     },
     "execution_count": 38,
     "metadata": {},
     "output_type": "execute_result"
    }
   ],
   "source": [
    "chain.invoke(\"What are PEPFAR countries asked to do?\")"
   ]
  },
  {
   "attachments": {},
   "cell_type": "markdown",
   "metadata": {},
   "source": [
    "Showing citations...\n",
    "\n",
    "This langchain how-to shows how you can add citations to the results: https://python.langchain.com/v0.2/docs/how_to/qa_citations/#setup"
   ]
  },
  {
   "cell_type": "code",
   "execution_count": null,
   "metadata": {},
   "outputs": [],
   "source": []
  },
  {
   "attachments": {},
   "cell_type": "markdown",
   "metadata": {},
   "source": [
    "### Multidocument chat"
   ]
  }
 ],
 "metadata": {
  "kernelspec": {
   "display_name": "Python 3",
   "language": "python",
   "name": "python3"
  },
  "language_info": {
   "codemirror_mode": {
    "name": "ipython",
    "version": 3
   },
   "file_extension": ".py",
   "mimetype": "text/x-python",
   "name": "python",
   "nbconvert_exporter": "python",
   "pygments_lexer": "ipython3",
   "version": "3.10.8"
  },
  "orig_nbformat": 4
 },
 "nbformat": 4,
 "nbformat_minor": 2
}
