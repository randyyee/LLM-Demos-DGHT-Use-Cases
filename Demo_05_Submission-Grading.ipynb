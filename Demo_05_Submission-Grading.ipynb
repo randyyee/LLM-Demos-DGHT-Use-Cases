{
 "cells": [
  {
   "attachments": {},
   "cell_type": "markdown",
   "metadata": {},
   "source": [
    "### Demo #3 Using LLM to assist with submission grading tasks\n",
    "This demo shows how you can use LLMs to help perform a grading task with a rubic. The example uses an established SIB data management rubric to assess SIB submissions involving data mangement. \n",
    "\n",
    "We will setup individual agents to evaulate each criteria and a final grader agent to consolidate all the results from each agent to make a recommendation on the submission."
   ]
  },
  {
   "attachments": {},
   "cell_type": "markdown",
   "metadata": {},
   "source": [
    "from langchain.agents.agent_types import AgentType\n",
    "from langchain_openai import AzureChatOpenAI\n",
    "\n",
    "from dotenv import load_dotenv\n",
    "\n",
    "import os"
   ]
  }
 ],
 "metadata": {
  "language_info": {
   "name": "python"
  },
  "orig_nbformat": 4
 },
 "nbformat": 4,
 "nbformat_minor": 2
}
