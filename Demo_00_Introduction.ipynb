{
 "cells": [
  {
   "attachments": {},
   "cell_type": "markdown",
   "metadata": {},
   "source": [
    "# LLM Demos: DGHT Use Cases"
   ]
  },
  {
   "cell_type": "markdown",
   "metadata": {},
   "source": [
    "Randy Yee (pcx5@cdc.gov)"
   ]
  },
  {
   "attachments": {},
   "cell_type": "markdown",
   "metadata": {},
   "source": [
    "This is a collection of Jupyter notebooks showing you how you can use LLMs for a variety of tasks done around DGHT.\n",
    "\n",
    "To run these notebooks, you will need to provide a .env file with secrets for CDC's Azure OpenAI.\n",
    "\n",
    "Because this space is constantly evolving, some of the code may be broken by the time you try to run it. I've added datestamps to the notebooks letting you know the last time the notebook was successfully run. I'll try to keep the demos as up-to-date as I can, but the purpose of these demos is to show what's possible with LLMs. There are many ways to implement these use cases and many packages one can use these days.\n",
    "\n",
    "A final note: AI is still an experimental technology, and the utmost care should be used when implementing any AI method. A human should review every output."
   ]
  },
  {
   "attachments": {},
   "cell_type": "markdown",
   "metadata": {},
   "source": [
    "<b>Warning! These demos utilize internal data and should not be shared outside the agency!</b>"
   ]
  }
 ],
 "metadata": {
  "language_info": {
   "name": "python"
  },
  "orig_nbformat": 4
 },
 "nbformat": 4,
 "nbformat_minor": 2
}
