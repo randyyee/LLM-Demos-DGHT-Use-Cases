{
 "cells": [
  {
   "cell_type": "code",
   "execution_count": null,
   "metadata": {},
   "outputs": [],
   "source": [
    "conflict_researcher = Agent(\n",
    "  role='Senior Research Analyst',\n",
    "  goal='Uncover developments in conflict in Ethiopia.',\n",
    "  backstory=\"\"\"You work at a leading conflict monitoring organization.\n",
    "  Your expertise lies in identifying emerging trends.\"\"\",\n",
    "  verbose=True,\n",
    "  allow_delegation=False,\n",
    "  tools=[search_tool]\n",
    ")\n",
    "\n",
    "conflict_researcher2 = Agent(\n",
    "  role='Senior Research Analyst',\n",
    "  goal='Uncover developments in conflict in Ethiopia.',\n",
    "  backstory=\"\"\"You work at a leading conflict monitoring organization.\n",
    "  Your expertise lies in identifying emerging trends.\"\"\",\n",
    "  verbose=True,\n",
    "  allow_delegation=False,\n",
    "  tools=[search_tool]\n",
    ")\n",
    "\n",
    "writer = Agent(\n",
    "  role='Public Health Content Writer',\n",
    "  goal='Craft compelling content on HIV/AIDS and conflict in Ethiopia.',\n",
    "  backstory=\"\"\"You are a renowned Content Strategist, known for your insightful and engaging articles.\n",
    "  You consolidate multiple sources of information.\"\"\",\n",
    "  verbose=True,\n",
    "  allow_delegation=True\n",
    ")"
   ]
  },
  {
   "cell_type": "code",
   "execution_count": null,
   "metadata": {},
   "outputs": [],
   "source": [
    "# Create tasks for your agents\n",
    "task1 = Task(\n",
    "  description=\"\"\"Conduct a comprehensive analysis of the latest developments on conflict in 2024 in Ethiopia.\n",
    "  Use sites like the Council on Foreign Relations, Crisis Group, ACLED, Harvard, etc. to identify ongoing conflicts.\n",
    "  Identify key events and conflict hotspot areas in Ethiopia.\"\"\",\n",
    "  expected_output=\"Full analysis report in bullet points\",\n",
    "  agent=conflict_researcher\n",
    ")\n",
    "\n",
    "task2 = Task(\n",
    "  description=\"\"\"Conduct a comprehensive analysis of the latest developments on human movement or migration due to conflict in 2024 in Ethiopia.\n",
    "  Report on where people are moving from and to due to conflict.\"\"\",\n",
    "  expected_output=\"Full analysis report in bullet points\",\n",
    "  agent=conflict_researcher2\n",
    ")\n",
    "\n",
    "task3 = Task(\n",
    "  description=\"\"\"Conduct a comprehensive analysis of the latest research on the impact of conflict on HIV/AIDS in Ethiopia.\n",
    "  Identify key trends, potential public health impacts, and key recommendations for policymakers and health organizations.\"\"\",\n",
    "  expected_output=\"Full analysis report in bullet points\",\n",
    "  agent=publichealth_researcher\n",
    ")\n",
    "\n",
    "task4 = Task(\n",
    "  description=\"\"\"Using the insights provided, develop a policy brief for policymakers\n",
    "  that highlights the most significant conflict areas in Ethiopia for HIV/AIDS response.\n",
    "  Describe major conflict events in 2024 and include the who, what, where, and why.\n",
    "  Also predict areas of tension where conflict may escalate or breakout.\n",
    "  Describe where people are fleeing from conflict and to (is it nearby regions within the country or nearby countries?) so that policymakers can anticipate health needs.\n",
    "  Summarize the key recommendations for policymakers in terms of humanitarian aid and HIV/AIDS response.\n",
    "  Be specific in your recommendations and provide actionable steps.\n",
    "  Do not use any superfluous words or jargon.\"\"\",\n",
    "  expected_output=\"Policy brief for policymakers in Ethiopia on the link between conflict and HIV/AIDS.\",\n",
    "  agent=writer\n",
    ") "
   ]
  },
  {
   "cell_type": "code",
   "execution_count": null,
   "metadata": {},
   "outputs": [],
   "source": [
    "# Instantiate your crew with a sequential process (task done one after another)\n",
    "crew = Crew(\n",
    "  agents=[publichealth_researcher, conflict_researcher, conflict_researcher2, writer],\n",
    "  tasks=[task1, task2, task3, task4],\n",
    "  verbose=2, # You can set it to 1 or 2 to different logging levels\n",
    ")"
   ]
  },
  {
   "cell_type": "code",
   "execution_count": null,
   "metadata": {},
   "outputs": [],
   "source": [
    "# Get your crew to work!\n",
    "result = crew.kickoff()\n",
    "\n",
    "print(\"######################\")\n",
    "print(result)"
   ]
  }
 ],
 "metadata": {
  "language_info": {
   "name": "python"
  },
  "orig_nbformat": 4
 },
 "nbformat": 4,
 "nbformat_minor": 2
}
