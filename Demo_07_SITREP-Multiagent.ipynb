{
 "cells": [
  {
   "attachments": {},
   "cell_type": "markdown",
   "metadata": {},
   "source": [
    "## Demo #7 Using Multiagent Frameworks for Situation Reports (SITREP)"
   ]
  },
  {
   "attachments": {},
   "cell_type": "markdown",
   "metadata": {},
   "source": [
    "The idea is that you can take all the bits and pieces from the previous demos and deploy an army of agents to gather internal/external data, analyze data, and synthesize findings.\n",
    "\n",
    "There are several frameworks you can utilize to do this like crewai (see Demo #6) and Autogen (https://microsoft.github.io/autogen/)."
   ]
  }
 ],
 "metadata": {
  "language_info": {
   "name": "python"
  },
  "orig_nbformat": 4
 },
 "nbformat": 4,
 "nbformat_minor": 2
}
