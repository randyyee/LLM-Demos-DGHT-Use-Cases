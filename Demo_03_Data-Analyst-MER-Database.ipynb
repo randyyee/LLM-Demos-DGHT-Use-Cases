{
 "cells": [
  {
   "cell_type": "markdown",
   "metadata": {},
   "source": [
    "## Demo #3 Setup a Data Analyst on a SQL Database"
   ]
  },
  {
   "attachments": {},
   "cell_type": "markdown",
   "metadata": {},
   "source": [
    "Here we'll do the same thing as demo #2 except we'll use an LLM agent to interact with a SQL database. This is a proof of concept demo for using LLMs to write queries for patient-level relational databases often used by PEPFAR counties (i.e., national data repositories)."
   ]
  }
 ],
 "metadata": {
  "language_info": {
   "name": "python"
  },
  "orig_nbformat": 4
 },
 "nbformat": 4,
 "nbformat_minor": 2
}
